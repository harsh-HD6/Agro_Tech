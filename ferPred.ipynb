{
  "nbformat": 4,
  "nbformat_minor": 0,
  "metadata": {
    "kernelspec": {
      "display_name": "Python 3",
      "language": "python",
      "name": "python3"
    },
    "colab": {
      "name": "ferPred.ipynb",
      "provenance": []
    }
  },
  "cells": [
    {
      "cell_type": "markdown",
      "metadata": {
        "colab_type": "text",
        "id": "Jie2zTFm424D"
      },
      "source": [
        "# Tabular models"
      ]
    },
    {
      "cell_type": "code",
      "execution_count": 1,
      "metadata": {},
      "outputs": [],
      "source": [
        "from fastai.tabular import *"
      ]
    },
    {
      "cell_type": "markdown",
      "metadata": {
        "colab_type": "text",
        "id": "KxuSv668424I"
      },
      "source": [
        "Tabular data should be in a Pandas `DataFrame`."
      ]
    },
    {
      "cell_type": "code",
      "execution_count": null,
      "metadata": {
        "colab": {},
        "colab_type": "code",
        "id": "ouIhSFOk48-w"
      },
      "outputs": [],
      "source": [
        "from google.colab import drive\n",
        "drive.mount('/content/gdrive/')\n"
      ]
    },
    {
      "cell_type": "code",
      "execution_count": null,
      "metadata": {
        "colab": {},
        "colab_type": "code",
        "id": "fEYEM-ws5A6R"
      },
      "outputs": [],
      "source": [
        "cd '/content/gdrive/My Drive/Colab Notebooks'"
      ]
    },
    {
      "cell_type": "code",
      "execution_count": null,
      "metadata": {
        "colab": {},
        "colab_type": "code",
        "id": "4VerE4K35Ry5"
      },
      "outputs": [],
      "source": [
        "ls"
      ]
    },
    {
      "cell_type": "code",
      "execution_count": 2,
      "metadata": {},
      "outputs": [],
      "source": [
        "path = Path('.')\n",
        "df = pd.read_csv(path/'FertPredictDataset.csv')"
      ]
    },
    {
      "cell_type": "code",
      "execution_count": 3,
      "metadata": {},
      "outputs": [
        {
          "data": {
            "text/html": "<div>\n<style scoped>\n    .dataframe tbody tr th:only-of-type {\n        vertical-align: middle;\n    }\n\n    .dataframe tbody tr th {\n        vertical-align: top;\n    }\n\n    .dataframe thead th {\n        text-align: right;\n    }\n</style>\n<table border=\"1\" class=\"dataframe\">\n  <thead>\n    <tr style=\"text-align: right;\">\n      <th></th>\n      <th>Ca</th>\n      <th>Mg</th>\n      <th>K</th>\n      <th>S</th>\n      <th>N</th>\n      <th>Lime</th>\n      <th>C</th>\n      <th>P</th>\n      <th>Moisture</th>\n      <th>class</th>\n    </tr>\n  </thead>\n  <tbody>\n    <tr>\n      <th>count</th>\n      <td>1599.000000</td>\n      <td>1599.000000</td>\n      <td>1599.000000</td>\n      <td>1599.000000</td>\n      <td>1599.000000</td>\n      <td>1599.000000</td>\n      <td>1599.000000</td>\n      <td>1599.000000</td>\n      <td>1599.000000</td>\n      <td>1599.000000</td>\n    </tr>\n    <tr>\n      <th>mean</th>\n      <td>0.552033</td>\n      <td>0.552158</td>\n      <td>0.554284</td>\n      <td>0.551032</td>\n      <td>0.551782</td>\n      <td>0.548030</td>\n      <td>0.549656</td>\n      <td>0.550594</td>\n      <td>0.702939</td>\n      <td>2.500938</td>\n    </tr>\n    <tr>\n      <th>std</th>\n      <td>0.207752</td>\n      <td>0.208562</td>\n      <td>0.209547</td>\n      <td>0.204817</td>\n      <td>0.209015</td>\n      <td>0.205967</td>\n      <td>0.205063</td>\n      <td>0.203223</td>\n      <td>0.141236</td>\n      <td>1.118104</td>\n    </tr>\n    <tr>\n      <th>min</th>\n      <td>0.100000</td>\n      <td>0.100000</td>\n      <td>0.100000</td>\n      <td>0.100000</td>\n      <td>0.100000</td>\n      <td>0.100000</td>\n      <td>0.100000</td>\n      <td>0.100000</td>\n      <td>0.500000</td>\n      <td>1.000000</td>\n    </tr>\n    <tr>\n      <th>25%</th>\n      <td>0.500000</td>\n      <td>0.500000</td>\n      <td>0.450000</td>\n      <td>0.450000</td>\n      <td>0.450000</td>\n      <td>0.450000</td>\n      <td>0.450000</td>\n      <td>0.450000</td>\n      <td>0.600000</td>\n      <td>2.000000</td>\n    </tr>\n    <tr>\n      <th>50%</th>\n      <td>0.600000</td>\n      <td>0.600000</td>\n      <td>0.600000</td>\n      <td>0.600000</td>\n      <td>0.600000</td>\n      <td>0.600000</td>\n      <td>0.600000</td>\n      <td>0.600000</td>\n      <td>0.700000</td>\n      <td>3.000000</td>\n    </tr>\n    <tr>\n      <th>75%</th>\n      <td>0.700000</td>\n      <td>0.700000</td>\n      <td>0.700000</td>\n      <td>0.700000</td>\n      <td>0.700000</td>\n      <td>0.700000</td>\n      <td>0.700000</td>\n      <td>0.700000</td>\n      <td>0.800000</td>\n      <td>3.500000</td>\n    </tr>\n    <tr>\n      <th>max</th>\n      <td>0.800000</td>\n      <td>0.800000</td>\n      <td>0.800000</td>\n      <td>0.800000</td>\n      <td>0.800000</td>\n      <td>0.800000</td>\n      <td>0.800000</td>\n      <td>0.800000</td>\n      <td>0.900000</td>\n      <td>4.000000</td>\n    </tr>\n  </tbody>\n</table>\n</div>",
            "text/plain": "                Ca           Mg            K            S            N  \\\ncount  1599.000000  1599.000000  1599.000000  1599.000000  1599.000000   \nmean      0.552033     0.552158     0.554284     0.551032     0.551782   \nstd       0.207752     0.208562     0.209547     0.204817     0.209015   \nmin       0.100000     0.100000     0.100000     0.100000     0.100000   \n25%       0.500000     0.500000     0.450000     0.450000     0.450000   \n50%       0.600000     0.600000     0.600000     0.600000     0.600000   \n75%       0.700000     0.700000     0.700000     0.700000     0.700000   \nmax       0.800000     0.800000     0.800000     0.800000     0.800000   \n\n              Lime            C            P     Moisture        class  \ncount  1599.000000  1599.000000  1599.000000  1599.000000  1599.000000  \nmean      0.548030     0.549656     0.550594     0.702939     2.500938  \nstd       0.205967     0.205063     0.203223     0.141236     1.118104  \nmin       0.100000     0.100000     0.100000     0.500000     1.000000  \n25%       0.450000     0.450000     0.450000     0.600000     2.000000  \n50%       0.600000     0.600000     0.600000     0.700000     3.000000  \n75%       0.700000     0.700000     0.700000     0.800000     3.500000  \nmax       0.800000     0.800000     0.800000     0.900000     4.000000  "
          },
          "execution_count": 3,
          "metadata": {},
          "output_type": "execute_result"
        }
      ],
      "source": [
        "df.describe()"
      ]
    },
    {
      "cell_type": "code",
      "execution_count": 4,
      "metadata": {},
      "outputs": [],
      "source": [
        "dep_var = 'class'\n",
        "cat_names = []#'workclass', 'education', 'marital-status', 'occupation', 'relationship', 'race']\n",
        "cont_names = ['Ca', 'K','S','N','Lime','C','P', 'Moisture','Mg']\n",
        "procs = [FillMissing]"
      ]
    },
    {
      "cell_type": "code",
      "execution_count": 5,
      "metadata": {},
      "outputs": [],
      "source": [
        "test = TabularList.from_df(df.iloc[1400:1598].copy(), path=path, cat_names=cat_names, cont_names=cont_names)"
      ]
    },
    {
      "cell_type": "code",
      "execution_count": 6,
      "metadata": {},
      "outputs": [],
      "source": [
        "data = (TabularList.from_df(df, path=path, cat_names=cat_names, cont_names=cont_names, procs=procs)\n",
        "                           .split_by_idx(list(range(1400,1598)))\n",
        "                           .label_from_df(cols=dep_var)\n",
        "                           .add_test(test)\n",
        "                           .databunch())"
      ]
    },
    {
      "cell_type": "code",
      "execution_count": 7,
      "metadata": {},
      "outputs": [
        {
          "data": {
            "text/html": "<table border=\"1\" class=\"dataframe\">\n  <thead>\n    <tr style=\"text-align: right;\">\n      <th>Ca</th>\n      <th>K</th>\n      <th>S</th>\n      <th>N</th>\n      <th>Lime</th>\n      <th>C</th>\n      <th>P</th>\n      <th>Moisture</th>\n      <th>Mg</th>\n      <th>target</th>\n    </tr>\n  </thead>\n  <tbody>\n    <tr>\n      <td>0.5000</td>\n      <td>0.7000</td>\n      <td>0.7000</td>\n      <td>0.3000</td>\n      <td>0.4000</td>\n      <td>0.7000</td>\n      <td>0.5000</td>\n      <td>0.8000</td>\n      <td>0.7000</td>\n      <td>3</td>\n    </tr>\n    <tr>\n      <td>0.6000</td>\n      <td>0.1000</td>\n      <td>0.4000</td>\n      <td>0.6000</td>\n      <td>0.6000</td>\n      <td>0.5000</td>\n      <td>0.8000</td>\n      <td>0.6000</td>\n      <td>0.6000</td>\n      <td>2</td>\n    </tr>\n    <tr>\n      <td>0.1000</td>\n      <td>0.5000</td>\n      <td>0.5000</td>\n      <td>0.6000</td>\n      <td>0.8000</td>\n      <td>0.6000</td>\n      <td>0.5000</td>\n      <td>0.5000</td>\n      <td>0.4000</td>\n      <td>1</td>\n    </tr>\n    <tr>\n      <td>0.4000</td>\n      <td>0.6000</td>\n      <td>0.6000</td>\n      <td>0.5000</td>\n      <td>0.7000</td>\n      <td>0.5000</td>\n      <td>0.6000</td>\n      <td>0.6000</td>\n      <td>0.4000</td>\n      <td>1</td>\n    </tr>\n    <tr>\n      <td>0.6000</td>\n      <td>0.2000</td>\n      <td>0.3000</td>\n      <td>0.8000</td>\n      <td>0.6000</td>\n      <td>0.8000</td>\n      <td>0.5000</td>\n      <td>0.9000</td>\n      <td>0.6000</td>\n      <td>2</td>\n    </tr>\n    <tr>\n      <td>0.4000</td>\n      <td>0.5000</td>\n      <td>0.8000</td>\n      <td>0.7000</td>\n      <td>0.6000</td>\n      <td>0.7000</td>\n      <td>0.6000</td>\n      <td>0.5000</td>\n      <td>0.1000</td>\n      <td>1</td>\n    </tr>\n    <tr>\n      <td>0.7000</td>\n      <td>0.3000</td>\n      <td>0.4000</td>\n      <td>0.8000</td>\n      <td>0.6000</td>\n      <td>0.7000</td>\n      <td>0.8000</td>\n      <td>0.5000</td>\n      <td>0.6000</td>\n      <td>2</td>\n    </tr>\n    <tr>\n      <td>0.8000</td>\n      <td>0.6000</td>\n      <td>0.5000</td>\n      <td>0.8000</td>\n      <td>0.8000</td>\n      <td>0.4000</td>\n      <td>0.2000</td>\n      <td>0.6000</td>\n      <td>0.5000</td>\n      <td>4</td>\n    </tr>\n    <tr>\n      <td>0.6000</td>\n      <td>0.1000</td>\n      <td>0.1000</td>\n      <td>0.8000</td>\n      <td>0.6000</td>\n      <td>0.8000</td>\n      <td>0.5000</td>\n      <td>0.8000</td>\n      <td>0.7000</td>\n      <td>2</td>\n    </tr>\n    <tr>\n      <td>0.2000</td>\n      <td>0.7000</td>\n      <td>0.6000</td>\n      <td>0.7000</td>\n      <td>0.7000</td>\n      <td>0.5000</td>\n      <td>0.6000</td>\n      <td>0.8000</td>\n      <td>0.1000</td>\n      <td>1</td>\n    </tr>\n  </tbody>\n</table>",
            "text/plain": "<IPython.core.display.HTML object>"
          },
          "metadata": {},
          "output_type": "display_data"
        }
      ],
      "source": [
        "data.show_batch(rows=10)"
      ]
    },
    {
      "cell_type": "code",
      "execution_count": 8,
      "metadata": {},
      "outputs": [],
      "source": [
        "learn = tabular_learner(data, layers=[200,100], metrics=accuracy)"
      ]
    },
    {
      "cell_type": "code",
      "execution_count": 9,
      "metadata": {},
      "outputs": [
        {
          "data": {
            "text/html": "<table border=\"1\" class=\"dataframe\">\n  <thead>\n    <tr style=\"text-align: left;\">\n      <th>epoch</th>\n      <th>train_loss</th>\n      <th>valid_loss</th>\n      <th>accuracy</th>\n      <th>time</th>\n    </tr>\n  </thead>\n  <tbody>\n    <tr>\n      <td>0</td>\n      <td>0.135449</td>\n      <td>0.120115</td>\n      <td>0.989899</td>\n      <td>01:33</td>\n    </tr>\n  </tbody>\n</table>",
            "text/plain": "<IPython.core.display.HTML object>"
          },
          "metadata": {},
          "output_type": "display_data"
        }
      ],
      "source": [
        "learn.fit(1, 1e-2)"
      ]
    },
    {
      "cell_type": "code",
      "execution_count": null,
      "metadata": {
        "colab": {},
        "colab_type": "code",
        "id": "OVk4sjdScNcU"
      },
      "outputs": [],
      "source": [
        "!pip list"
      ]
    },
    {
      "cell_type": "code",
      "execution_count": null,
      "metadata": {
        "colab": {},
        "colab_type": "code",
        "id": "S-92H-hRCDFN"
      },
      "outputs": [],
      "source": [
        "learn.export()"
      ]
    },
    {
      "cell_type": "markdown",
      "metadata": {
        "colab_type": "text",
        "id": "tixn9seT424c"
      },
      "source": [
        "## Inference"
      ]
    },
    {
      "cell_type": "code",
      "execution_count": 11,
      "metadata": {},
      "outputs": [],
      "source": [
        "row = df.iloc[0]"
      ]
    },
    {
      "cell_type": "code",
      "execution_count": 12,
      "metadata": {},
      "outputs": [
        {
          "data": {
            "text/plain": "(Category tensor(3), tensor(3), tensor([0.0176, 0.0172, 0.0220, 0.9433]))"
          },
          "execution_count": 12,
          "metadata": {},
          "output_type": "execute_result"
        }
      ],
      "source": [
        "learn.predict(row)"
      ]
    },
    {
      "cell_type": "code",
      "execution_count": null,
      "metadata": {
        "colab": {},
        "colab_type": "code",
        "id": "myw39Ipn424g"
      },
      "outputs": [],
      "source": [
        ""
      ]
    }
  ]
}